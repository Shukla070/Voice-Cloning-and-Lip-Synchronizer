{
  "nbformat": 4,
  "nbformat_minor": 0,
  "metadata": {
    "colab": {
      "provenance": [],
      "gpuType": "T4"
    },
    "kernelspec": {
      "name": "python3",
      "display_name": "Python 3"
    },
    "accelerator": "GPU"
  },
  "cells": [
    {
      "cell_type": "markdown",
      "metadata": {
        "id": "vSQFs_G8caeE"
      },
      "source": [
        "# Collab preliminaries"
      ]
    },
    {
      "cell_type": "code",
      "metadata": {
        "id": "XIVB0Xn1g6ih",
        "colab": {
          "base_uri": "https://localhost:8080/"
        },
        "outputId": "c503f2ee-0f63-46c4-b579-5925d38d5a83"
      },
      "source": [
        "!nvcc --version"
      ],
      "execution_count": null,
      "outputs": [
        {
          "output_type": "stream",
          "name": "stdout",
          "text": [
            "nvcc: NVIDIA (R) Cuda compiler driver\n",
            "Copyright (c) 2005-2024 NVIDIA Corporation\n",
            "Built on Thu_Jun__6_02:18:23_PDT_2024\n",
            "Cuda compilation tools, release 12.5, V12.5.82\n",
            "Build cuda_12.5.r12.5/compiler.34385749_0\n"
          ]
        }
      ]
    },
    {
      "cell_type": "code",
      "metadata": {
        "id": "qciH4PsUazL_",
        "colab": {
          "base_uri": "https://localhost:8080/"
        },
        "outputId": "7a1b73d4-256a-4523-9aad-9348d7ef38a1"
      },
      "source": [
        "from google.colab import drive\n",
        "drive.mount('/content/gdrive')"
      ],
      "execution_count": null,
      "outputs": [
        {
          "output_type": "stream",
          "name": "stdout",
          "text": [
            "Mounted at /content/gdrive\n"
          ]
        }
      ]
    },
    {
      "cell_type": "markdown",
      "metadata": {
        "id": "yJ5taGmPcWV-"
      },
      "source": [
        "# Get the code and models"
      ]
    },
    {
      "cell_type": "code",
      "metadata": {
        "id": "P3LihClHbUd3",
        "colab": {
          "base_uri": "https://localhost:8080/"
        },
        "outputId": "92b18f2b-0d6e-4818-de9d-cf9bd148ddeb"
      },
      "source": [
        "!git clone https://github.com/Shukla070/Wav2Lip.git"
      ],
      "execution_count": null,
      "outputs": [
        {
          "output_type": "stream",
          "name": "stdout",
          "text": [
            "Cloning into 'Wav2Lip'...\n",
            "remote: Enumerating objects: 409, done.\u001b[K\n",
            "remote: Counting objects: 100% (24/24), done.\u001b[K\n",
            "remote: Compressing objects: 100% (23/23), done.\u001b[K\n",
            "remote: Total 409 (delta 17), reused 1 (delta 1), pack-reused 385 (from 4)\u001b[K\n",
            "Receiving objects: 100% (409/409), 547.48 KiB | 12.73 MiB/s, done.\n",
            "Resolving deltas: 100% (226/226), done.\n"
          ]
        }
      ]
    },
    {
      "cell_type": "code",
      "metadata": {
        "id": "y-19nzx8SamJ",
        "colab": {
          "base_uri": "https://localhost:8080/"
        },
        "outputId": "a39f0c21-ffe9-453d-b4da-5e9c3a64e7f6"
      },
      "source": [
        "!ls /content/gdrive/MyDrive/Wav2Lip"
      ],
      "execution_count": null,
      "outputs": [
        {
          "output_type": "stream",
          "name": "stdout",
          "text": [
            "ai.wav\tkennedy.mp4  ModiJi.mp4  mona.mp4  mona.wav  Trump.mp4\tTrump.wav\n"
          ]
        }
      ]
    },
    {
      "cell_type": "code",
      "metadata": {
        "id": "YjzMPy_Sb0AI"
      },
      "source": [
        "!cp -ri \"/content/gdrive/MyDrive/Wav2lip/wav2lip_gan.pth\" /content/Wav2Lip/checkpoints/"
      ],
      "execution_count": null,
      "outputs": []
    },
    {
      "cell_type": "markdown",
      "metadata": {
        "id": "aWTaOS3ncFt6"
      },
      "source": [
        "# Get the pre-requisites"
      ]
    },
    {
      "cell_type": "code",
      "metadata": {
        "id": "Ooh28vw-Uvd3",
        "colab": {
          "base_uri": "https://localhost:8080/"
        },
        "outputId": "edfa47e0-4e3c-4327-e8fc-35a333387e09"
      },
      "source": [
        "!pip uninstall tensorflow tensorflow-gpu"
      ],
      "execution_count": null,
      "outputs": [
        {
          "output_type": "stream",
          "name": "stdout",
          "text": [
            "Found existing installation: tensorflow 2.18.0\n",
            "Uninstalling tensorflow-2.18.0:\n",
            "  Would remove:\n",
            "    /usr/local/bin/import_pb_to_tensorboard\n",
            "    /usr/local/bin/saved_model_cli\n",
            "    /usr/local/bin/tensorboard\n",
            "    /usr/local/bin/tf_upgrade_v2\n",
            "    /usr/local/bin/tflite_convert\n",
            "    /usr/local/bin/toco\n",
            "    /usr/local/bin/toco_from_protos\n",
            "    /usr/local/lib/python3.11/dist-packages/tensorflow-2.18.0.dist-info/*\n",
            "    /usr/local/lib/python3.11/dist-packages/tensorflow/*\n",
            "Proceed (Y/n)? Y\n",
            "  Successfully uninstalled tensorflow-2.18.0\n",
            "\u001b[33mWARNING: Skipping tensorflow-gpu as it is not installed.\u001b[0m\u001b[33m\n",
            "\u001b[0m"
          ]
        }
      ]
    },
    {
      "cell_type": "code",
      "source": [
        "!pwd"
      ],
      "metadata": {
        "colab": {
          "base_uri": "https://localhost:8080/"
        },
        "id": "HcrsXjwub7YI",
        "outputId": "e2723605-2d22-4b2c-a6a8-07ca5dc6077d"
      },
      "execution_count": null,
      "outputs": [
        {
          "output_type": "stream",
          "name": "stdout",
          "text": [
            "/content\n"
          ]
        }
      ]
    },
    {
      "cell_type": "code",
      "source": [
        "!ls"
      ],
      "metadata": {
        "colab": {
          "base_uri": "https://localhost:8080/"
        },
        "id": "FdECpmXPcHqb",
        "outputId": "dbbfed64-263d-4429-936b-098bb355cfea"
      },
      "execution_count": null,
      "outputs": [
        {
          "output_type": "stream",
          "name": "stdout",
          "text": [
            "gdrive\tsample_data  Wav2Lip\n"
          ]
        }
      ]
    },
    {
      "cell_type": "code",
      "source": [
        "!ls Wav2Lip"
      ],
      "metadata": {
        "colab": {
          "base_uri": "https://localhost:8080/"
        },
        "id": "iEL6l6RA3VNV",
        "outputId": "68cdf376-7e6a-4358-a165-4b4db9439d02"
      },
      "execution_count": null,
      "outputs": [
        {
          "output_type": "stream",
          "name": "stdout",
          "text": [
            "audio.py\t\tface_detection\t     inference.py   requirements.txt\n",
            "checkpoints\t\tfilelists\t     models\t    results\n",
            "color_syncnet_train.py\thparams.py\t     preprocess.py  temp\n",
            "evaluation\t\thq_wav2lip_train.py  README.md\t    wav2lip_train.py\n"
          ]
        }
      ]
    },
    {
      "cell_type": "code",
      "source": [
        "cat Wav2Lip/requirements.txt"
      ],
      "metadata": {
        "colab": {
          "base_uri": "https://localhost:8080/"
        },
        "id": "NMWoBUhp3xTg",
        "outputId": "2c012bdd-f5d7-4f91-c067-b8ea97297927"
      },
      "execution_count": null,
      "outputs": [
        {
          "output_type": "stream",
          "name": "stdout",
          "text": [
            "librosa==0.8.1\n",
            "numpy==1.23.5\n",
            "opencv-contrib-python>=4.2.0.34\n",
            "torch==2.0.1  # Updated from 1.13.1 → 2.0.1\n",
            "torchvision==0.15.2\n",
            "tqdm==4.66.1\n",
            "numba==0.57.1\n"
          ]
        }
      ]
    },
    {
      "cell_type": "code",
      "metadata": {
        "id": "49dCYlLdcK2D",
        "colab": {
          "base_uri": "https://localhost:8080/",
          "height": 1000
        },
        "outputId": "49781257-35c6-4d48-b414-52ad0c6884cd"
      },
      "source": [
        "pip install -r Wav2Lip/requirements.txt"
      ],
      "execution_count": null,
      "outputs": [
        {
          "output_type": "stream",
          "name": "stdout",
          "text": [
            "Collecting librosa==0.8.1 (from -r Wav2Lip/requirements.txt (line 1))\n",
            "  Downloading librosa-0.8.1-py3-none-any.whl.metadata (6.8 kB)\n",
            "Collecting numpy==1.23.5 (from -r Wav2Lip/requirements.txt (line 2))\n",
            "  Downloading numpy-1.23.5-cp311-cp311-manylinux_2_17_x86_64.manylinux2014_x86_64.whl.metadata (2.3 kB)\n",
            "Requirement already satisfied: opencv-contrib-python>=4.2.0.34 in /usr/local/lib/python3.11/dist-packages (from -r Wav2Lip/requirements.txt (line 3)) (4.11.0.86)\n",
            "Collecting torch==2.0.1 (from -r Wav2Lip/requirements.txt (line 4))\n",
            "  Downloading torch-2.0.1-cp311-cp311-manylinux1_x86_64.whl.metadata (24 kB)\n",
            "Collecting torchvision==0.15.2 (from -r Wav2Lip/requirements.txt (line 5))\n",
            "  Downloading torchvision-0.15.2-cp311-cp311-manylinux1_x86_64.whl.metadata (11 kB)\n",
            "Collecting tqdm==4.66.1 (from -r Wav2Lip/requirements.txt (line 6))\n",
            "  Downloading tqdm-4.66.1-py3-none-any.whl.metadata (57 kB)\n",
            "\u001b[2K     \u001b[90m━━━━━━━━━━━━━━━━━━━━━━━━━━━━━━━━━━━━━━━━\u001b[0m \u001b[32m57.6/57.6 kB\u001b[0m \u001b[31m3.7 MB/s\u001b[0m eta \u001b[36m0:00:00\u001b[0m\n",
            "\u001b[?25hCollecting numba==0.57.1 (from -r Wav2Lip/requirements.txt (line 7))\n",
            "  Downloading numba-0.57.1-cp311-cp311-manylinux2014_x86_64.manylinux_2_17_x86_64.whl.metadata (2.7 kB)\n",
            "Requirement already satisfied: audioread>=2.0.0 in /usr/local/lib/python3.11/dist-packages (from librosa==0.8.1->-r Wav2Lip/requirements.txt (line 1)) (3.0.1)\n",
            "Requirement already satisfied: scipy>=1.0.0 in /usr/local/lib/python3.11/dist-packages (from librosa==0.8.1->-r Wav2Lip/requirements.txt (line 1)) (1.14.1)\n",
            "Requirement already satisfied: scikit-learn!=0.19.0,>=0.14.0 in /usr/local/lib/python3.11/dist-packages (from librosa==0.8.1->-r Wav2Lip/requirements.txt (line 1)) (1.6.1)\n",
            "Requirement already satisfied: joblib>=0.14 in /usr/local/lib/python3.11/dist-packages (from librosa==0.8.1->-r Wav2Lip/requirements.txt (line 1)) (1.4.2)\n",
            "Requirement already satisfied: decorator>=3.0.0 in /usr/local/lib/python3.11/dist-packages (from librosa==0.8.1->-r Wav2Lip/requirements.txt (line 1)) (4.4.2)\n",
            "Collecting resampy>=0.2.2 (from librosa==0.8.1->-r Wav2Lip/requirements.txt (line 1))\n",
            "  Downloading resampy-0.4.3-py3-none-any.whl.metadata (3.0 kB)\n",
            "Requirement already satisfied: soundfile>=0.10.2 in /usr/local/lib/python3.11/dist-packages (from librosa==0.8.1->-r Wav2Lip/requirements.txt (line 1)) (0.13.1)\n",
            "Requirement already satisfied: pooch>=1.0 in /usr/local/lib/python3.11/dist-packages (from librosa==0.8.1->-r Wav2Lip/requirements.txt (line 1)) (1.8.2)\n",
            "Requirement already satisfied: packaging>=20.0 in /usr/local/lib/python3.11/dist-packages (from librosa==0.8.1->-r Wav2Lip/requirements.txt (line 1)) (24.2)\n",
            "Requirement already satisfied: filelock in /usr/local/lib/python3.11/dist-packages (from torch==2.0.1->-r Wav2Lip/requirements.txt (line 4)) (3.17.0)\n",
            "Requirement already satisfied: typing-extensions in /usr/local/lib/python3.11/dist-packages (from torch==2.0.1->-r Wav2Lip/requirements.txt (line 4)) (4.12.2)\n",
            "Requirement already satisfied: sympy in /usr/local/lib/python3.11/dist-packages (from torch==2.0.1->-r Wav2Lip/requirements.txt (line 4)) (1.13.1)\n",
            "Requirement already satisfied: networkx in /usr/local/lib/python3.11/dist-packages (from torch==2.0.1->-r Wav2Lip/requirements.txt (line 4)) (3.4.2)\n",
            "Requirement already satisfied: jinja2 in /usr/local/lib/python3.11/dist-packages (from torch==2.0.1->-r Wav2Lip/requirements.txt (line 4)) (3.1.6)\n",
            "Collecting nvidia-cuda-nvrtc-cu11==11.7.99 (from torch==2.0.1->-r Wav2Lip/requirements.txt (line 4))\n",
            "  Downloading nvidia_cuda_nvrtc_cu11-11.7.99-2-py3-none-manylinux1_x86_64.whl.metadata (1.5 kB)\n",
            "Collecting nvidia-cuda-runtime-cu11==11.7.99 (from torch==2.0.1->-r Wav2Lip/requirements.txt (line 4))\n",
            "  Downloading nvidia_cuda_runtime_cu11-11.7.99-py3-none-manylinux1_x86_64.whl.metadata (1.6 kB)\n",
            "Collecting nvidia-cuda-cupti-cu11==11.7.101 (from torch==2.0.1->-r Wav2Lip/requirements.txt (line 4))\n",
            "  Downloading nvidia_cuda_cupti_cu11-11.7.101-py3-none-manylinux1_x86_64.whl.metadata (1.6 kB)\n",
            "Collecting nvidia-cudnn-cu11==8.5.0.96 (from torch==2.0.1->-r Wav2Lip/requirements.txt (line 4))\n",
            "  Downloading nvidia_cudnn_cu11-8.5.0.96-2-py3-none-manylinux1_x86_64.whl.metadata (1.6 kB)\n",
            "Collecting nvidia-cublas-cu11==11.10.3.66 (from torch==2.0.1->-r Wav2Lip/requirements.txt (line 4))\n",
            "  Downloading nvidia_cublas_cu11-11.10.3.66-py3-none-manylinux1_x86_64.whl.metadata (1.6 kB)\n",
            "Collecting nvidia-cufft-cu11==10.9.0.58 (from torch==2.0.1->-r Wav2Lip/requirements.txt (line 4))\n",
            "  Downloading nvidia_cufft_cu11-10.9.0.58-py3-none-manylinux2014_x86_64.whl.metadata (1.5 kB)\n",
            "Collecting nvidia-curand-cu11==10.2.10.91 (from torch==2.0.1->-r Wav2Lip/requirements.txt (line 4))\n",
            "  Downloading nvidia_curand_cu11-10.2.10.91-py3-none-manylinux1_x86_64.whl.metadata (1.6 kB)\n",
            "Collecting nvidia-cusolver-cu11==11.4.0.1 (from torch==2.0.1->-r Wav2Lip/requirements.txt (line 4))\n",
            "  Downloading nvidia_cusolver_cu11-11.4.0.1-2-py3-none-manylinux1_x86_64.whl.metadata (1.6 kB)\n",
            "Collecting nvidia-cusparse-cu11==11.7.4.91 (from torch==2.0.1->-r Wav2Lip/requirements.txt (line 4))\n",
            "  Downloading nvidia_cusparse_cu11-11.7.4.91-py3-none-manylinux1_x86_64.whl.metadata (1.6 kB)\n",
            "Collecting nvidia-nccl-cu11==2.14.3 (from torch==2.0.1->-r Wav2Lip/requirements.txt (line 4))\n",
            "  Downloading nvidia_nccl_cu11-2.14.3-py3-none-manylinux1_x86_64.whl.metadata (1.8 kB)\n",
            "Collecting nvidia-nvtx-cu11==11.7.91 (from torch==2.0.1->-r Wav2Lip/requirements.txt (line 4))\n",
            "  Downloading nvidia_nvtx_cu11-11.7.91-py3-none-manylinux1_x86_64.whl.metadata (1.7 kB)\n",
            "Collecting triton==2.0.0 (from torch==2.0.1->-r Wav2Lip/requirements.txt (line 4))\n",
            "  Downloading triton-2.0.0-1-cp311-cp311-manylinux2014_x86_64.manylinux_2_17_x86_64.whl.metadata (1.0 kB)\n",
            "Requirement already satisfied: requests in /usr/local/lib/python3.11/dist-packages (from torchvision==0.15.2->-r Wav2Lip/requirements.txt (line 5)) (2.32.3)\n",
            "Requirement already satisfied: pillow!=8.3.*,>=5.3.0 in /usr/local/lib/python3.11/dist-packages (from torchvision==0.15.2->-r Wav2Lip/requirements.txt (line 5)) (11.1.0)\n",
            "Collecting llvmlite<0.41,>=0.40.0dev0 (from numba==0.57.1->-r Wav2Lip/requirements.txt (line 7))\n",
            "  Downloading llvmlite-0.40.1-cp311-cp311-manylinux_2_17_x86_64.manylinux2014_x86_64.whl.metadata (4.7 kB)\n",
            "Requirement already satisfied: setuptools in /usr/local/lib/python3.11/dist-packages (from nvidia-cublas-cu11==11.10.3.66->torch==2.0.1->-r Wav2Lip/requirements.txt (line 4)) (75.1.0)\n",
            "Requirement already satisfied: wheel in /usr/local/lib/python3.11/dist-packages (from nvidia-cublas-cu11==11.10.3.66->torch==2.0.1->-r Wav2Lip/requirements.txt (line 4)) (0.45.1)\n",
            "Requirement already satisfied: cmake in /usr/local/lib/python3.11/dist-packages (from triton==2.0.0->torch==2.0.1->-r Wav2Lip/requirements.txt (line 4)) (3.31.6)\n",
            "Collecting lit (from triton==2.0.0->torch==2.0.1->-r Wav2Lip/requirements.txt (line 4))\n",
            "  Downloading lit-18.1.8-py3-none-any.whl.metadata (2.5 kB)\n",
            "Requirement already satisfied: platformdirs>=2.5.0 in /usr/local/lib/python3.11/dist-packages (from pooch>=1.0->librosa==0.8.1->-r Wav2Lip/requirements.txt (line 1)) (4.3.6)\n",
            "Requirement already satisfied: charset-normalizer<4,>=2 in /usr/local/lib/python3.11/dist-packages (from requests->torchvision==0.15.2->-r Wav2Lip/requirements.txt (line 5)) (3.4.1)\n",
            "Requirement already satisfied: idna<4,>=2.5 in /usr/local/lib/python3.11/dist-packages (from requests->torchvision==0.15.2->-r Wav2Lip/requirements.txt (line 5)) (3.10)\n",
            "Requirement already satisfied: urllib3<3,>=1.21.1 in /usr/local/lib/python3.11/dist-packages (from requests->torchvision==0.15.2->-r Wav2Lip/requirements.txt (line 5)) (2.3.0)\n",
            "Requirement already satisfied: certifi>=2017.4.17 in /usr/local/lib/python3.11/dist-packages (from requests->torchvision==0.15.2->-r Wav2Lip/requirements.txt (line 5)) (2025.1.31)\n",
            "Requirement already satisfied: threadpoolctl>=3.1.0 in /usr/local/lib/python3.11/dist-packages (from scikit-learn!=0.19.0,>=0.14.0->librosa==0.8.1->-r Wav2Lip/requirements.txt (line 1)) (3.6.0)\n",
            "Requirement already satisfied: cffi>=1.0 in /usr/local/lib/python3.11/dist-packages (from soundfile>=0.10.2->librosa==0.8.1->-r Wav2Lip/requirements.txt (line 1)) (1.17.1)\n",
            "Requirement already satisfied: MarkupSafe>=2.0 in /usr/local/lib/python3.11/dist-packages (from jinja2->torch==2.0.1->-r Wav2Lip/requirements.txt (line 4)) (3.0.2)\n",
            "Requirement already satisfied: mpmath<1.4,>=1.1.0 in /usr/local/lib/python3.11/dist-packages (from sympy->torch==2.0.1->-r Wav2Lip/requirements.txt (line 4)) (1.3.0)\n",
            "Requirement already satisfied: pycparser in /usr/local/lib/python3.11/dist-packages (from cffi>=1.0->soundfile>=0.10.2->librosa==0.8.1->-r Wav2Lip/requirements.txt (line 1)) (2.22)\n",
            "Downloading librosa-0.8.1-py3-none-any.whl (203 kB)\n",
            "\u001b[2K   \u001b[90m━━━━━━━━━━━━━━━━━━━━━━━━━━━━━━━━━━━━━━━━\u001b[0m \u001b[32m203.8/203.8 kB\u001b[0m \u001b[31m13.7 MB/s\u001b[0m eta \u001b[36m0:00:00\u001b[0m\n",
            "\u001b[?25hDownloading numpy-1.23.5-cp311-cp311-manylinux_2_17_x86_64.manylinux2014_x86_64.whl (17.1 MB)\n",
            "\u001b[2K   \u001b[90m━━━━━━━━━━━━━━━━━━━━━━━━━━━━━━━━━━━━━━━━\u001b[0m \u001b[32m17.1/17.1 MB\u001b[0m \u001b[31m70.6 MB/s\u001b[0m eta \u001b[36m0:00:00\u001b[0m\n",
            "\u001b[?25hDownloading torch-2.0.1-cp311-cp311-manylinux1_x86_64.whl (619.9 MB)\n",
            "\u001b[2K   \u001b[90m━━━━━━━━━━━━━━━━━━━━━━━━━━━━━━━━━━━━━━━━\u001b[0m \u001b[32m619.9/619.9 MB\u001b[0m \u001b[31m3.1 MB/s\u001b[0m eta \u001b[36m0:00:00\u001b[0m\n",
            "\u001b[?25hDownloading torchvision-0.15.2-cp311-cp311-manylinux1_x86_64.whl (6.0 MB)\n",
            "\u001b[2K   \u001b[90m━━━━━━━━━━━━━━━━━━━━━━━━━━━━━━━━━━━━━━━━\u001b[0m \u001b[32m6.0/6.0 MB\u001b[0m \u001b[31m109.6 MB/s\u001b[0m eta \u001b[36m0:00:00\u001b[0m\n",
            "\u001b[?25hDownloading tqdm-4.66.1-py3-none-any.whl (78 kB)\n",
            "\u001b[2K   \u001b[90m━━━━━━━━━━━━━━━━━━━━━━━━━━━━━━━━━━━━━━━━\u001b[0m \u001b[32m78.3/78.3 kB\u001b[0m \u001b[31m7.2 MB/s\u001b[0m eta \u001b[36m0:00:00\u001b[0m\n",
            "\u001b[?25hDownloading numba-0.57.1-cp311-cp311-manylinux2014_x86_64.manylinux_2_17_x86_64.whl (3.6 MB)\n",
            "\u001b[2K   \u001b[90m━━━━━━━━━━━━━━━━━━━━━━━━━━━━━━━━━━━━━━━━\u001b[0m \u001b[32m3.6/3.6 MB\u001b[0m \u001b[31m94.3 MB/s\u001b[0m eta \u001b[36m0:00:00\u001b[0m\n",
            "\u001b[?25hDownloading nvidia_cublas_cu11-11.10.3.66-py3-none-manylinux1_x86_64.whl (317.1 MB)\n",
            "\u001b[2K   \u001b[90m━━━━━━━━━━━━━━━━━━━━━━━━━━━━━━━━━━━━━━━━\u001b[0m \u001b[32m317.1/317.1 MB\u001b[0m \u001b[31m4.3 MB/s\u001b[0m eta \u001b[36m0:00:00\u001b[0m\n",
            "\u001b[?25hDownloading nvidia_cuda_cupti_cu11-11.7.101-py3-none-manylinux1_x86_64.whl (11.8 MB)\n",
            "\u001b[2K   \u001b[90m━━━━━━━━━━━━━━━━━━━━━━━━━━━━━━━━━━━━━━━━\u001b[0m \u001b[32m11.8/11.8 MB\u001b[0m \u001b[31m113.6 MB/s\u001b[0m eta \u001b[36m0:00:00\u001b[0m\n",
            "\u001b[?25hDownloading nvidia_cuda_nvrtc_cu11-11.7.99-2-py3-none-manylinux1_x86_64.whl (21.0 MB)\n",
            "\u001b[2K   \u001b[90m━━━━━━━━━━━━━━━━━━━━━━━━━━━━━━━━━━━━━━━━\u001b[0m \u001b[32m21.0/21.0 MB\u001b[0m \u001b[31m88.6 MB/s\u001b[0m eta \u001b[36m0:00:00\u001b[0m\n",
            "\u001b[?25hDownloading nvidia_cuda_runtime_cu11-11.7.99-py3-none-manylinux1_x86_64.whl (849 kB)\n",
            "\u001b[2K   \u001b[90m━━━━━━━━━━━━━━━━━━━━━━━━━━━━━━━━━━━━━━━━\u001b[0m \u001b[32m849.3/849.3 kB\u001b[0m \u001b[31m53.9 MB/s\u001b[0m eta \u001b[36m0:00:00\u001b[0m\n",
            "\u001b[?25hDownloading nvidia_cudnn_cu11-8.5.0.96-2-py3-none-manylinux1_x86_64.whl (557.1 MB)\n",
            "\u001b[2K   \u001b[90m━━━━━━━━━━━━━━━━━━━━━━━━━━━━━━━━━━━━━━━━\u001b[0m \u001b[32m557.1/557.1 MB\u001b[0m \u001b[31m3.0 MB/s\u001b[0m eta \u001b[36m0:00:00\u001b[0m\n",
            "\u001b[?25hDownloading nvidia_cufft_cu11-10.9.0.58-py3-none-manylinux2014_x86_64.whl (168.4 MB)\n",
            "\u001b[2K   \u001b[90m━━━━━━━━━━━━━━━━━━━━━━━━━━━━━━━━━━━━━━━━\u001b[0m \u001b[32m168.4/168.4 MB\u001b[0m \u001b[31m6.5 MB/s\u001b[0m eta \u001b[36m0:00:00\u001b[0m\n",
            "\u001b[?25hDownloading nvidia_curand_cu11-10.2.10.91-py3-none-manylinux1_x86_64.whl (54.6 MB)\n",
            "\u001b[2K   \u001b[90m━━━━━━━━━━━━━━━━━━━━━━━━━━━━━━━━━━━━━━━━\u001b[0m \u001b[32m54.6/54.6 MB\u001b[0m \u001b[31m12.6 MB/s\u001b[0m eta \u001b[36m0:00:00\u001b[0m\n",
            "\u001b[?25hDownloading nvidia_cusolver_cu11-11.4.0.1-2-py3-none-manylinux1_x86_64.whl (102.6 MB)\n",
            "\u001b[2K   \u001b[90m━━━━━━━━━━━━━━━━━━━━━━━━━━━━━━━━━━━━━━━━\u001b[0m \u001b[32m102.6/102.6 MB\u001b[0m \u001b[31m8.4 MB/s\u001b[0m eta \u001b[36m0:00:00\u001b[0m\n",
            "\u001b[?25hDownloading nvidia_cusparse_cu11-11.7.4.91-py3-none-manylinux1_x86_64.whl (173.2 MB)\n",
            "\u001b[2K   \u001b[90m━━━━━━━━━━━━━━━━━━━━━━━━━━━━━━━━━━━━━━━━\u001b[0m \u001b[32m173.2/173.2 MB\u001b[0m \u001b[31m6.4 MB/s\u001b[0m eta \u001b[36m0:00:00\u001b[0m\n",
            "\u001b[?25hDownloading nvidia_nccl_cu11-2.14.3-py3-none-manylinux1_x86_64.whl (177.1 MB)\n",
            "\u001b[2K   \u001b[90m━━━━━━━━━━━━━━━━━━━━━━━━━━━━━━━━━━━━━━━━\u001b[0m \u001b[32m177.1/177.1 MB\u001b[0m \u001b[31m6.6 MB/s\u001b[0m eta \u001b[36m0:00:00\u001b[0m\n",
            "\u001b[?25hDownloading nvidia_nvtx_cu11-11.7.91-py3-none-manylinux1_x86_64.whl (98 kB)\n",
            "\u001b[2K   \u001b[90m━━━━━━━━━━━━━━━━━━━━━━━━━━━━━━━━━━━━━━━━\u001b[0m \u001b[32m98.6/98.6 kB\u001b[0m \u001b[31m9.0 MB/s\u001b[0m eta \u001b[36m0:00:00\u001b[0m\n",
            "\u001b[?25hDownloading triton-2.0.0-1-cp311-cp311-manylinux2014_x86_64.manylinux_2_17_x86_64.whl (63.3 MB)\n",
            "\u001b[2K   \u001b[90m━━━━━━━━━━━━━━━━━━━━━━━━━━━━━━━━━━━━━━━━\u001b[0m \u001b[32m63.3/63.3 MB\u001b[0m \u001b[31m11.3 MB/s\u001b[0m eta \u001b[36m0:00:00\u001b[0m\n",
            "\u001b[?25hDownloading llvmlite-0.40.1-cp311-cp311-manylinux_2_17_x86_64.manylinux2014_x86_64.whl (42.1 MB)\n",
            "\u001b[2K   \u001b[90m━━━━━━━━━━━━━━━━━━━━━━━━━━━━━━━━━━━━━━━━\u001b[0m \u001b[32m42.1/42.1 MB\u001b[0m \u001b[31m19.9 MB/s\u001b[0m eta \u001b[36m0:00:00\u001b[0m\n",
            "\u001b[?25hDownloading resampy-0.4.3-py3-none-any.whl (3.1 MB)\n",
            "\u001b[2K   \u001b[90m━━━━━━━━━━━━━━━━━━━━━━━━━━━━━━━━━━━━━━━━\u001b[0m \u001b[32m3.1/3.1 MB\u001b[0m \u001b[31m84.4 MB/s\u001b[0m eta \u001b[36m0:00:00\u001b[0m\n",
            "\u001b[?25hDownloading lit-18.1.8-py3-none-any.whl (96 kB)\n",
            "\u001b[2K   \u001b[90m━━━━━━━━━━━━━━━━━━━━━━━━━━━━━━━━━━━━━━━━\u001b[0m \u001b[32m96.4/96.4 kB\u001b[0m \u001b[31m10.0 MB/s\u001b[0m eta \u001b[36m0:00:00\u001b[0m\n",
            "\u001b[?25hInstalling collected packages: lit, tqdm, nvidia-nvtx-cu11, nvidia-nccl-cu11, nvidia-cusparse-cu11, nvidia-curand-cu11, nvidia-cufft-cu11, nvidia-cuda-runtime-cu11, nvidia-cuda-nvrtc-cu11, nvidia-cuda-cupti-cu11, nvidia-cublas-cu11, numpy, llvmlite, nvidia-cusolver-cu11, nvidia-cudnn-cu11, numba, resampy, librosa, triton, torch, torchvision\n",
            "  Attempting uninstall: tqdm\n",
            "    Found existing installation: tqdm 4.67.1\n",
            "    Uninstalling tqdm-4.67.1:\n",
            "      Successfully uninstalled tqdm-4.67.1\n",
            "  Attempting uninstall: numpy\n",
            "    Found existing installation: numpy 2.0.2\n",
            "    Uninstalling numpy-2.0.2:\n",
            "      Successfully uninstalled numpy-2.0.2\n",
            "  Attempting uninstall: llvmlite\n",
            "    Found existing installation: llvmlite 0.43.0\n",
            "    Uninstalling llvmlite-0.43.0:\n",
            "      Successfully uninstalled llvmlite-0.43.0\n",
            "  Attempting uninstall: numba\n",
            "    Found existing installation: numba 0.60.0\n",
            "    Uninstalling numba-0.60.0:\n",
            "      Successfully uninstalled numba-0.60.0\n",
            "  Attempting uninstall: librosa\n",
            "    Found existing installation: librosa 0.10.2.post1\n",
            "    Uninstalling librosa-0.10.2.post1:\n",
            "      Successfully uninstalled librosa-0.10.2.post1\n",
            "  Attempting uninstall: triton\n",
            "    Found existing installation: triton 3.2.0\n",
            "    Uninstalling triton-3.2.0:\n",
            "      Successfully uninstalled triton-3.2.0\n",
            "  Attempting uninstall: torch\n",
            "    Found existing installation: torch 2.6.0+cu124\n",
            "    Uninstalling torch-2.6.0+cu124:\n",
            "      Successfully uninstalled torch-2.6.0+cu124\n",
            "  Attempting uninstall: torchvision\n",
            "    Found existing installation: torchvision 0.21.0+cu124\n",
            "    Uninstalling torchvision-0.21.0+cu124:\n",
            "      Successfully uninstalled torchvision-0.21.0+cu124\n",
            "\u001b[31mERROR: pip's dependency resolver does not currently take into account all the packages that are installed. This behaviour is the source of the following dependency conflicts.\n",
            "dopamine-rl 4.1.2 requires tensorflow>=2.2.0, which is not installed.\n",
            "xarray 2025.1.2 requires numpy>=1.24, but you have numpy 1.23.5 which is incompatible.\n",
            "numba-cuda 0.2.0 requires numba>=0.59.1, but you have numba 0.57.1 which is incompatible.\n",
            "chex 0.1.89 requires numpy>=1.24.1, but you have numpy 1.23.5 which is incompatible.\n",
            "pymc 5.21.1 requires numpy>=1.25.0, but you have numpy 1.23.5 which is incompatible.\n",
            "dask-cuda 25.2.0 requires numba<0.61.0a0,>=0.59.1, but you have numba 0.57.1 which is incompatible.\n",
            "imbalanced-learn 0.13.0 requires numpy<3,>=1.24.3, but you have numpy 1.23.5 which is incompatible.\n",
            "jaxlib 0.5.1 requires numpy>=1.25, but you have numpy 1.23.5 which is incompatible.\n",
            "bigframes 1.40.0 requires numpy>=1.24.0, but you have numpy 1.23.5 which is incompatible.\n",
            "scikit-image 0.25.2 requires numpy>=1.24, but you have numpy 1.23.5 which is incompatible.\n",
            "blosc2 3.2.0 requires numpy>=1.26, but you have numpy 1.23.5 which is incompatible.\n",
            "jax 0.5.2 requires numpy>=1.25, but you have numpy 1.23.5 which is incompatible.\n",
            "torchaudio 2.6.0+cu124 requires torch==2.6.0, but you have torch 2.0.1 which is incompatible.\n",
            "cudf-cu12 25.2.1 requires numba<0.61.0a0,>=0.59.1, but you have numba 0.57.1 which is incompatible.\n",
            "distributed-ucxx-cu12 0.42.0 requires numba<0.61.0a0,>=0.59.1, but you have numba 0.57.1 which is incompatible.\n",
            "treescope 0.1.9 requires numpy>=1.25.2, but you have numpy 1.23.5 which is incompatible.\n",
            "albucore 0.0.23 requires numpy>=1.24.4, but you have numpy 1.23.5 which is incompatible.\n",
            "albumentations 2.0.5 requires numpy>=1.24.4, but you have numpy 1.23.5 which is incompatible.\n",
            "cuml-cu12 25.2.1 requires numba<0.61.0a0,>=0.59.1, but you have numba 0.57.1 which is incompatible.\u001b[0m\u001b[31m\n",
            "\u001b[0mSuccessfully installed librosa-0.8.1 lit-18.1.8 llvmlite-0.40.1 numba-0.57.1 numpy-1.23.5 nvidia-cublas-cu11-11.10.3.66 nvidia-cuda-cupti-cu11-11.7.101 nvidia-cuda-nvrtc-cu11-11.7.99 nvidia-cuda-runtime-cu11-11.7.99 nvidia-cudnn-cu11-8.5.0.96 nvidia-cufft-cu11-10.9.0.58 nvidia-curand-cu11-10.2.10.91 nvidia-cusolver-cu11-11.4.0.1 nvidia-cusparse-cu11-11.7.4.91 nvidia-nccl-cu11-2.14.3 nvidia-nvtx-cu11-11.7.91 resampy-0.4.3 torch-2.0.1 torchvision-0.15.2 tqdm-4.66.1 triton-2.0.0\n"
          ]
        },
        {
          "output_type": "display_data",
          "data": {
            "application/vnd.colab-display-data+json": {
              "pip_warning": {
                "packages": [
                  "numpy"
                ]
              },
              "id": "c79b9e3dbc9f4016b5b1a32235879f8d"
            }
          },
          "metadata": {}
        }
      ]
    },
    {
      "cell_type": "code",
      "metadata": {
        "id": "ey_bN4M6X_95",
        "colab": {
          "base_uri": "https://localhost:8080/"
        },
        "outputId": "49b2d729-329a-4e2f-838c-b8ed3163cd01"
      },
      "source": [
        "!wget \"https://www.adrianbulat.com/downloads/python-fan/s3fd-619a316812.pth\" -O \"Wav2Lip/face_detection/detection/sfd/s3fd.pth\""
      ],
      "execution_count": null,
      "outputs": [
        {
          "output_type": "stream",
          "name": "stdout",
          "text": [
            "--2025-03-19 13:02:48--  https://www.adrianbulat.com/downloads/python-fan/s3fd-619a316812.pth\n",
            "Resolving www.adrianbulat.com (www.adrianbulat.com)... 45.136.29.207\n",
            "Connecting to www.adrianbulat.com (www.adrianbulat.com)|45.136.29.207|:443... connected.\n",
            "HTTP request sent, awaiting response... 200 OK\n",
            "Length: 89843225 (86M) [application/octet-stream]\n",
            "Saving to: ‘Wav2Lip/face_detection/detection/sfd/s3fd.pth’\n",
            "\n",
            "Wav2Lip/face_detect 100%[===================>]  85.68M  21.9MB/s    in 4.9s    \n",
            "\n",
            "2025-03-19 13:02:53 (17.6 MB/s) - ‘Wav2Lip/face_detection/detection/sfd/s3fd.pth’ saved [89843225/89843225]\n",
            "\n"
          ]
        }
      ]
    },
    {
      "cell_type": "code",
      "source": [
        "!ls \"/content/gdrive/My Drive/Wav2Lip/\""
      ],
      "metadata": {
        "colab": {
          "base_uri": "https://localhost:8080/"
        },
        "id": "C1l9hSgugjh5",
        "outputId": "0125ff06-9f7f-4b7a-fe3d-0f466cf213e9"
      },
      "execution_count": null,
      "outputs": [
        {
          "output_type": "stream",
          "name": "stdout",
          "text": [
            "ai.wav\tkennedy.mp4  ModiJi.mp4  mona.mp4  mona.wav  Trump.mp4\tTrump.wav\n"
          ]
        }
      ]
    },
    {
      "cell_type": "markdown",
      "metadata": {
        "id": "qdIQfY2Kswcb"
      },
      "source": [
        "# Now lets try!"
      ]
    },
    {
      "cell_type": "code",
      "metadata": {
        "id": "KoVGMtjRZfeR",
        "colab": {
          "base_uri": "https://localhost:8080/"
        },
        "outputId": "6d43bbae-6542-424d-d9c2-502ded6eb2eb"
      },
      "source": [
        "!cp \"/content/gdrive/My Drive/Wav2Lip/trump2.mp4\" \"/content/gdrive/My Drive/Wav2Lip/Trump.wav\" sample_data/\n",
        "!ls sample_data/"
      ],
      "execution_count": null,
      "outputs": [
        {
          "output_type": "stream",
          "name": "stdout",
          "text": [
            "anscombe.json\t\t      mnist_test.csv\t     README.md\n",
            "california_housing_test.csv   mnist_train_small.csv  trump2.mp4\n",
            "california_housing_train.csv  ModiJi.mp4\t     Trump.wav\n"
          ]
        }
      ]
    },
    {
      "cell_type": "code",
      "metadata": {
        "id": "jR5utmDMcSZY",
        "colab": {
          "base_uri": "https://localhost:8080/"
        },
        "outputId": "a6be0e27-49fc-47ee-a895-b6f25beff4b3"
      },
      "source": [
        "# !cd Wav2Lip && python inference.py --checkpoint_path checkpoints/wav2lip_gan.pth --face \"../sample_data/Trump.mp4\" --audio \"../sample_data/Trump.wav\""
      ],
      "execution_count": null,
      "outputs": [
        {
          "output_type": "stream",
          "name": "stdout",
          "text": [
            "Using cuda for inference.\n",
            "Reading video frames...\n",
            "Number of frames available for inference: 311\n",
            "(80, 910)\n",
            "Length of mel chunks: 337\n",
            "  0% 0/3 [00:00<?, ?it/s]\n",
            "  0% 0/20 [00:17<?, ?it/s]\n",
            "Recovering from OOM error; New batch size: 8\n",
            "\n",
            "  0% 0/39 [00:00<?, ?it/s]\u001b[A\n",
            "  3% 1/39 [00:44<28:05, 44.36s/it]\u001b[A\n",
            "  5% 2/39 [00:49<13:07, 21.27s/it]\u001b[A\n",
            "  8% 3/39 [00:55<08:28, 14.13s/it]\u001b[A\n",
            " 10% 4/39 [00:59<06:04, 10.43s/it]\u001b[A\n",
            " 13% 5/39 [01:04<04:47,  8.44s/it]\u001b[A\n",
            " 15% 6/39 [01:09<04:01,  7.32s/it]\u001b[A\n",
            " 18% 7/39 [01:14<03:27,  6.49s/it]\u001b[A\n",
            " 21% 8/39 [01:20<03:13,  6.23s/it]\u001b[A\n",
            " 23% 9/39 [01:25<02:55,  5.86s/it]\u001b[A\n",
            " 26% 10/39 [01:30<02:40,  5.53s/it]\u001b[A\n",
            " 28% 11/39 [01:35<02:31,  5.43s/it]\u001b[A\n",
            " 31% 12/39 [01:40<02:20,  5.22s/it]\u001b[A\n",
            " 33% 13/39 [01:45<02:16,  5.26s/it]\u001b[A\n",
            " 36% 14/39 [01:50<02:10,  5.23s/it]\u001b[A\n",
            " 38% 15/39 [01:55<02:03,  5.13s/it]\u001b[A\n",
            " 41% 16/39 [02:01<02:01,  5.28s/it]\u001b[A\n",
            " 44% 17/39 [02:05<01:52,  5.13s/it]\u001b[A\n",
            " 46% 18/39 [02:11<01:47,  5.14s/it]\u001b[A\n",
            " 49% 19/39 [02:16<01:43,  5.15s/it]\u001b[A\n",
            " 51% 20/39 [02:21<01:35,  5.05s/it]\u001b[A\n",
            " 54% 21/39 [02:26<01:34,  5.25s/it]\u001b[A\n",
            " 56% 22/39 [02:31<01:27,  5.13s/it]\u001b[A\n",
            " 59% 23/39 [02:36<01:20,  5.04s/it]\u001b[A\n",
            " 62% 24/39 [02:41<01:16,  5.08s/it]\u001b[A\n",
            " 64% 25/39 [02:46<01:09,  5.00s/it]\u001b[A\n",
            " 67% 26/39 [02:52<01:07,  5.22s/it]\u001b[A\n",
            " 69% 27/39 [02:57<01:02,  5.17s/it]\u001b[A\n",
            " 72% 28/39 [03:02<00:55,  5.06s/it]\u001b[A\n",
            " 74% 29/39 [03:07<00:51,  5.10s/it]\u001b[A\n",
            " 77% 30/39 [03:12<00:45,  5.03s/it]\u001b[A\n",
            " 79% 31/39 [03:17<00:41,  5.14s/it]\u001b[A\n",
            " 82% 32/39 [03:22<00:36,  5.15s/it]\u001b[A\n",
            " 85% 33/39 [03:27<00:30,  5.04s/it]\u001b[A\n",
            " 87% 34/39 [03:32<00:25,  5.18s/it]\u001b[A\n",
            " 90% 35/39 [03:37<00:20,  5.09s/it]\u001b[A\n",
            " 92% 36/39 [03:43<00:15,  5.15s/it]\u001b[A\n",
            " 95% 37/39 [03:48<00:10,  5.17s/it]\u001b[A\n",
            " 97% 38/39 [03:53<00:05,  5.05s/it]\u001b[A\n",
            "100% 39/39 [04:32<00:00,  7.00s/it]\n",
            "Load checkpoint from: checkpoints/wav2lip_gan.pth\n",
            "Model loaded\n",
            "100% 3/3 [05:15<00:00, 105.27s/it]\n",
            "ffmpeg version 4.4.2-0ubuntu0.22.04.1 Copyright (c) 2000-2021 the FFmpeg developers\n",
            "  built with gcc 11 (Ubuntu 11.2.0-19ubuntu1)\n",
            "  configuration: --prefix=/usr --extra-version=0ubuntu0.22.04.1 --toolchain=hardened --libdir=/usr/lib/x86_64-linux-gnu --incdir=/usr/include/x86_64-linux-gnu --arch=amd64 --enable-gpl --disable-stripping --enable-gnutls --enable-ladspa --enable-libaom --enable-libass --enable-libbluray --enable-libbs2b --enable-libcaca --enable-libcdio --enable-libcodec2 --enable-libdav1d --enable-libflite --enable-libfontconfig --enable-libfreetype --enable-libfribidi --enable-libgme --enable-libgsm --enable-libjack --enable-libmp3lame --enable-libmysofa --enable-libopenjpeg --enable-libopenmpt --enable-libopus --enable-libpulse --enable-librabbitmq --enable-librubberband --enable-libshine --enable-libsnappy --enable-libsoxr --enable-libspeex --enable-libsrt --enable-libssh --enable-libtheora --enable-libtwolame --enable-libvidstab --enable-libvorbis --enable-libvpx --enable-libwebp --enable-libx265 --enable-libxml2 --enable-libxvid --enable-libzimg --enable-libzmq --enable-libzvbi --enable-lv2 --enable-omx --enable-openal --enable-opencl --enable-opengl --enable-sdl2 --enable-pocketsphinx --enable-librsvg --enable-libmfx --enable-libdc1394 --enable-libdrm --enable-libiec61883 --enable-chromaprint --enable-frei0r --enable-libx264 --enable-shared\n",
            "  libavutil      56. 70.100 / 56. 70.100\n",
            "  libavcodec     58.134.100 / 58.134.100\n",
            "  libavformat    58. 76.100 / 58. 76.100\n",
            "  libavdevice    58. 13.100 / 58. 13.100\n",
            "  libavfilter     7.110.100 /  7.110.100\n",
            "  libswscale      5.  9.100 /  5.  9.100\n",
            "  libswresample   3.  9.100 /  3.  9.100\n",
            "  libpostproc    55.  9.100 / 55.  9.100\n",
            "\u001b[0;33mGuessed Channel Layout for Input Stream #0.0 : mono\n",
            "\u001b[0mInput #0, wav, from '../sample_data/Trump.wav':\n",
            "  Metadata:\n",
            "    encoder         : Lavf58.76.100\n",
            "  Duration: 00:00:11.37, bitrate: 384 kb/s\n",
            "  Stream #0:0: Audio: pcm_s16le ([1][0][0][0] / 0x0001), 24000 Hz, mono, s16, 384 kb/s\n",
            "Input #1, avi, from 'temp/result.avi':\n",
            "  Metadata:\n",
            "    software        : Lavf59.27.100\n",
            "  Duration: 00:00:11.23, start: 0.000000, bitrate: 1730 kb/s\n",
            "  Stream #1:0: Video: mpeg4 (Simple Profile) (DIVX / 0x58564944), yuv420p, 1920x1080 [SAR 1:1 DAR 16:9], 1722 kb/s, 30 fps, 30 tbr, 30 tbn, 30 tbc\n",
            "Stream mapping:\n",
            "  Stream #1:0 -> #0:0 (mpeg4 (native) -> h264 (libx264))\n",
            "  Stream #0:0 -> #0:1 (pcm_s16le (native) -> aac (native))\n",
            "Press [q] to stop, [?] for help\n",
            "\u001b[1;36m[libx264 @ 0x5b3dc20a4600] \u001b[0m\u001b[0;33m-qscale is ignored, -crf is recommended.\n",
            "\u001b[0m\u001b[1;36m[libx264 @ 0x5b3dc20a4600] \u001b[0musing SAR=1/1\n",
            "\u001b[1;36m[libx264 @ 0x5b3dc20a4600] \u001b[0musing cpu capabilities: MMX2 SSE2Fast SSSE3 SSE4.2 AVX FMA3 BMI2 AVX2\n",
            "\u001b[1;36m[libx264 @ 0x5b3dc20a4600] \u001b[0mprofile High, level 4.0, 4:2:0, 8-bit\n",
            "\u001b[1;36m[libx264 @ 0x5b3dc20a4600] \u001b[0m264 - core 163 r3060 5db6aa6 - H.264/MPEG-4 AVC codec - Copyleft 2003-2021 - http://www.videolan.org/x264.html - options: cabac=1 ref=3 deblock=1:0:0 analyse=0x3:0x113 me=hex subme=7 psy=1 psy_rd=1.00:0.00 mixed_ref=1 me_range=16 chroma_me=1 trellis=1 8x8dct=1 cqm=0 deadzone=21,11 fast_pskip=1 chroma_qp_offset=-2 threads=3 lookahead_threads=1 sliced_threads=0 nr=0 decimate=1 interlaced=0 bluray_compat=0 constrained_intra=0 bframes=3 b_pyramid=2 b_adapt=1 b_bias=0 direct=1 weightb=1 open_gop=0 weightp=2 keyint=250 keyint_min=25 scenecut=40 intra_refresh=0 rc_lookahead=40 rc=crf mbtree=1 crf=23.0 qcomp=0.60 qpmin=0 qpmax=69 qpstep=4 ip_ratio=1.40 aq=1:1.00\n",
            "Output #0, mp4, to 'results/result_voice.mp4':\n",
            "  Metadata:\n",
            "    encoder         : Lavf58.76.100\n",
            "  Stream #0:0: Video: h264 (avc1 / 0x31637661), yuv420p(progressive), 1920x1080 [SAR 1:1 DAR 16:9], q=2-31, 30 fps, 15360 tbn\n",
            "    Metadata:\n",
            "      encoder         : Lavc58.134.100 libx264\n",
            "    Side data:\n",
            "      cpb: bitrate max/min/avg: 0/0/0 buffer size: 0 vbv_delay: N/A\n",
            "  Stream #0:1: Audio: aac (LC) (mp4a / 0x6134706D), 24000 Hz, mono, fltp, 69 kb/s\n",
            "    Metadata:\n",
            "      encoder         : Lavc58.134.100 aac\n",
            "frame=  337 fps= 24 q=-1.0 Lsize=     681kB time=00:00:11.34 bitrate= 491.4kbits/s speed=0.817x    \n",
            "video:575kB audio:96kB subtitle:0kB other streams:0kB global headers:0kB muxing overhead: 1.519123%\n",
            "\u001b[1;36m[libx264 @ 0x5b3dc20a4600] \u001b[0mframe I:2     Avg QP:14.85  size: 50142\n",
            "\u001b[1;36m[libx264 @ 0x5b3dc20a4600] \u001b[0mframe P:85    Avg QP:17.47  size:  3682\n",
            "\u001b[1;36m[libx264 @ 0x5b3dc20a4600] \u001b[0mframe B:250   Avg QP:20.63  size:   697\n",
            "\u001b[1;36m[libx264 @ 0x5b3dc20a4600] \u001b[0mconsecutive B-frames:  0.9%  0.6%  0.0% 98.5%\n",
            "\u001b[1;36m[libx264 @ 0x5b3dc20a4600] \u001b[0mmb I  I16..4: 27.9% 69.0%  3.1%\n",
            "\u001b[1;36m[libx264 @ 0x5b3dc20a4600] \u001b[0mmb P  I16..4:  0.4%  2.1%  0.0%  P16..4:  6.5%  1.2%  0.9%  0.0%  0.0%    skip:89.0%\n",
            "\u001b[1;36m[libx264 @ 0x5b3dc20a4600] \u001b[0mmb B  I16..4:  0.1%  0.1%  0.0%  B16..8:  6.2%  0.1%  0.0%  direct: 0.0%  skip:93.6%  L0:56.0% L1:43.5% BI: 0.6%\n",
            "\u001b[1;36m[libx264 @ 0x5b3dc20a4600] \u001b[0m8x8 transform intra:75.2% inter:92.9%\n",
            "\u001b[1;36m[libx264 @ 0x5b3dc20a4600] \u001b[0mcoded y,uvDC,uvAC intra: 43.0% 50.6% 10.1% inter: 0.6% 1.1% 0.0%\n",
            "\u001b[1;36m[libx264 @ 0x5b3dc20a4600] \u001b[0mi16 v,h,dc,p: 45% 35%  9% 12%\n",
            "\u001b[1;36m[libx264 @ 0x5b3dc20a4600] \u001b[0mi8 v,h,dc,ddl,ddr,vr,hd,vl,hu: 29% 30% 28%  2%  2%  2%  2%  2%  2%\n",
            "\u001b[1;36m[libx264 @ 0x5b3dc20a4600] \u001b[0mi4 v,h,dc,ddl,ddr,vr,hd,vl,hu: 39% 38%  9%  2%  4%  3%  3%  1%  1%\n",
            "\u001b[1;36m[libx264 @ 0x5b3dc20a4600] \u001b[0mi8c dc,h,v,p: 45% 29% 17%  9%\n",
            "\u001b[1;36m[libx264 @ 0x5b3dc20a4600] \u001b[0mWeighted P-Frames: Y:0.0% UV:0.0%\n",
            "\u001b[1;36m[libx264 @ 0x5b3dc20a4600] \u001b[0mref P L0: 71.7%  4.3% 16.3%  7.6%\n",
            "\u001b[1;36m[libx264 @ 0x5b3dc20a4600] \u001b[0mref B L0: 68.0% 28.7%  3.3%\n",
            "\u001b[1;36m[libx264 @ 0x5b3dc20a4600] \u001b[0mref B L1: 96.9%  3.1%\n",
            "\u001b[1;36m[libx264 @ 0x5b3dc20a4600] \u001b[0mkb/s:418.48\n",
            "\u001b[1;36m[aac @ 0x5b3dc20a5b00] \u001b[0mQavg: 435.921\n"
          ]
        }
      ]
    },
    {
      "cell_type": "code",
      "metadata": {
        "id": "uNOAZvkszEOw"
      },
      "source": [
        "# use the \"files\" button on the left to download the result in the Wav2Lip/results/ folder."
      ],
      "execution_count": null,
      "outputs": []
    },
    {
      "cell_type": "markdown",
      "metadata": {
        "id": "d7zgfrQqbKom"
      },
      "source": [
        "## **Variations to try**\n"
      ]
    },
    {
      "cell_type": "markdown",
      "metadata": {
        "id": "0f9A9VDVbZAG"
      },
      "source": [
        "1.   Use more padding to include the chin region"
      ]
    },
    {
      "cell_type": "code",
      "metadata": {
        "id": "45XW4SZAzIz5",
        "colab": {
          "base_uri": "https://localhost:8080/"
        },
        "outputId": "4fd8d1c0-65b9-45ee-8683-ad5b3c210df0"
      },
      "source": [
        "# !cd Wav2Lip && python inference.py --checkpoint_path checkpoints/wav2lip_gan.pth --face \"../sample_data/ModiJi.mp4\" --audio \"../sample_data/Trump.wav\" --pads 0 20 0 0"
      ],
      "execution_count": null,
      "outputs": [
        {
          "output_type": "stream",
          "name": "stdout",
          "text": [
            "Using cuda for inference.\n",
            "Reading video frames...\n",
            "Number of frames available for inference: 899\n",
            "(80, 910)\n",
            "Length of mel chunks: 337\n",
            "  0% 0/3 [00:00<?, ?it/s]\n",
            "  0% 0/22 [00:00<?, ?it/s]\u001b[A\n",
            "  5% 1/22 [00:38<13:29, 38.56s/it]\u001b[A\n",
            "  9% 2/22 [00:41<05:54, 17.72s/it]\u001b[A\n",
            " 14% 3/22 [00:44<03:29, 11.02s/it]\u001b[A\n",
            " 18% 4/22 [00:47<02:18,  7.71s/it]\u001b[A\n",
            " 23% 5/22 [00:50<01:41,  5.97s/it]\u001b[A\n",
            " 27% 6/22 [00:52<01:17,  4.83s/it]\u001b[A\n",
            " 32% 7/22 [00:55<01:01,  4.11s/it]\u001b[A\n",
            " 36% 8/22 [00:58<00:52,  3.72s/it]\u001b[A\n",
            " 41% 9/22 [01:00<00:43,  3.37s/it]\u001b[A\n",
            " 45% 10/22 [01:03<00:37,  3.13s/it]\u001b[A\n",
            " 50% 11/22 [01:06<00:32,  2.97s/it]\u001b[A\n",
            " 55% 12/22 [01:08<00:28,  2.87s/it]\u001b[A\n",
            " 59% 13/22 [01:11<00:25,  2.89s/it]\u001b[A\n",
            " 64% 14/22 [01:14<00:22,  2.81s/it]\u001b[A\n",
            " 68% 15/22 [01:16<00:19,  2.75s/it]\u001b[A\n",
            " 73% 16/22 [01:19<00:16,  2.71s/it]\u001b[A\n",
            " 77% 17/22 [01:22<00:13,  2.78s/it]\u001b[A\n",
            " 82% 18/22 [01:25<00:11,  2.77s/it]\u001b[A\n",
            " 86% 19/22 [01:27<00:08,  2.74s/it]\u001b[A\n",
            " 91% 20/22 [01:30<00:05,  2.71s/it]\u001b[A\n",
            " 95% 21/22 [01:33<00:02,  2.71s/it]\u001b[A\n",
            "100% 22/22 [01:35<00:00,  4.35s/it]\n",
            "Load checkpoint from: checkpoints/wav2lip_gan.pth\n",
            "Model loaded\n",
            "100% 3/3 [01:57<00:00, 39.03s/it]\n",
            "ffmpeg version 4.4.2-0ubuntu0.22.04.1 Copyright (c) 2000-2021 the FFmpeg developers\n",
            "  built with gcc 11 (Ubuntu 11.2.0-19ubuntu1)\n",
            "  configuration: --prefix=/usr --extra-version=0ubuntu0.22.04.1 --toolchain=hardened --libdir=/usr/lib/x86_64-linux-gnu --incdir=/usr/include/x86_64-linux-gnu --arch=amd64 --enable-gpl --disable-stripping --enable-gnutls --enable-ladspa --enable-libaom --enable-libass --enable-libbluray --enable-libbs2b --enable-libcaca --enable-libcdio --enable-libcodec2 --enable-libdav1d --enable-libflite --enable-libfontconfig --enable-libfreetype --enable-libfribidi --enable-libgme --enable-libgsm --enable-libjack --enable-libmp3lame --enable-libmysofa --enable-libopenjpeg --enable-libopenmpt --enable-libopus --enable-libpulse --enable-librabbitmq --enable-librubberband --enable-libshine --enable-libsnappy --enable-libsoxr --enable-libspeex --enable-libsrt --enable-libssh --enable-libtheora --enable-libtwolame --enable-libvidstab --enable-libvorbis --enable-libvpx --enable-libwebp --enable-libx265 --enable-libxml2 --enable-libxvid --enable-libzimg --enable-libzmq --enable-libzvbi --enable-lv2 --enable-omx --enable-openal --enable-opencl --enable-opengl --enable-sdl2 --enable-pocketsphinx --enable-librsvg --enable-libmfx --enable-libdc1394 --enable-libdrm --enable-libiec61883 --enable-chromaprint --enable-frei0r --enable-libx264 --enable-shared\n",
            "  libavutil      56. 70.100 / 56. 70.100\n",
            "  libavcodec     58.134.100 / 58.134.100\n",
            "  libavformat    58. 76.100 / 58. 76.100\n",
            "  libavdevice    58. 13.100 / 58. 13.100\n",
            "  libavfilter     7.110.100 /  7.110.100\n",
            "  libswscale      5.  9.100 /  5.  9.100\n",
            "  libswresample   3.  9.100 /  3.  9.100\n",
            "  libpostproc    55.  9.100 / 55.  9.100\n",
            "\u001b[0;33mGuessed Channel Layout for Input Stream #0.0 : mono\n",
            "\u001b[0mInput #0, wav, from '../sample_data/Trump.wav':\n",
            "  Metadata:\n",
            "    encoder         : Lavf58.76.100\n",
            "  Duration: 00:00:11.37, bitrate: 384 kb/s\n",
            "  Stream #0:0: Audio: pcm_s16le ([1][0][0][0] / 0x0001), 24000 Hz, mono, s16, 384 kb/s\n",
            "Input #1, avi, from 'temp/result.avi':\n",
            "  Metadata:\n",
            "    software        : Lavf59.27.100\n",
            "  Duration: 00:00:11.23, start: 0.000000, bitrate: 2219 kb/s\n",
            "  Stream #1:0: Video: mpeg4 (Simple Profile) (DIVX / 0x58564944), yuv420p, 1280x720 [SAR 1:1 DAR 16:9], 2216 kb/s, 30 fps, 30 tbr, 30 tbn, 30 tbc\n",
            "Stream mapping:\n",
            "  Stream #1:0 -> #0:0 (mpeg4 (native) -> h264 (libx264))\n",
            "  Stream #0:0 -> #0:1 (pcm_s16le (native) -> aac (native))\n",
            "Press [q] to stop, [?] for help\n",
            "\u001b[1;36m[libx264 @ 0x576c550f4600] \u001b[0m\u001b[0;33m-qscale is ignored, -crf is recommended.\n",
            "\u001b[0m\u001b[1;36m[libx264 @ 0x576c550f4600] \u001b[0musing SAR=1/1\n",
            "\u001b[1;36m[libx264 @ 0x576c550f4600] \u001b[0musing cpu capabilities: MMX2 SSE2Fast SSSE3 SSE4.2 AVX FMA3 BMI2 AVX2\n",
            "\u001b[1;36m[libx264 @ 0x576c550f4600] \u001b[0mprofile High, level 3.1, 4:2:0, 8-bit\n",
            "\u001b[1;36m[libx264 @ 0x576c550f4600] \u001b[0m264 - core 163 r3060 5db6aa6 - H.264/MPEG-4 AVC codec - Copyleft 2003-2021 - http://www.videolan.org/x264.html - options: cabac=1 ref=3 deblock=1:0:0 analyse=0x3:0x113 me=hex subme=7 psy=1 psy_rd=1.00:0.00 mixed_ref=1 me_range=16 chroma_me=1 trellis=1 8x8dct=1 cqm=0 deadzone=21,11 fast_pskip=1 chroma_qp_offset=-2 threads=3 lookahead_threads=1 sliced_threads=0 nr=0 decimate=1 interlaced=0 bluray_compat=0 constrained_intra=0 bframes=3 b_pyramid=2 b_adapt=1 b_bias=0 direct=1 weightb=1 open_gop=0 weightp=2 keyint=250 keyint_min=25 scenecut=40 intra_refresh=0 rc_lookahead=40 rc=crf mbtree=1 crf=23.0 qcomp=0.60 qpmin=0 qpmax=69 qpstep=4 ip_ratio=1.40 aq=1:1.00\n",
            "Output #0, mp4, to 'results/result_voice.mp4':\n",
            "  Metadata:\n",
            "    encoder         : Lavf58.76.100\n",
            "  Stream #0:0: Video: h264 (avc1 / 0x31637661), yuv420p(progressive), 1280x720 [SAR 1:1 DAR 16:9], q=2-31, 30 fps, 15360 tbn\n",
            "    Metadata:\n",
            "      encoder         : Lavc58.134.100 libx264\n",
            "    Side data:\n",
            "      cpb: bitrate max/min/avg: 0/0/0 buffer size: 0 vbv_delay: N/A\n",
            "  Stream #0:1: Audio: aac (LC) (mp4a / 0x6134706D), 24000 Hz, mono, fltp, 69 kb/s\n",
            "    Metadata:\n",
            "      encoder         : Lavc58.134.100 aac\n",
            "frame=  337 fps= 28 q=-1.0 Lsize=    1504kB time=00:00:11.34 bitrate=1085.7kbits/s speed=0.941x    \n",
            "video:1399kB audio:96kB subtitle:0kB other streams:0kB global headers:0kB muxing overhead: 0.644919%\n",
            "\u001b[1;36m[libx264 @ 0x576c550f4600] \u001b[0mframe I:2     Avg QP:18.28  size: 34822\n",
            "\u001b[1;36m[libx264 @ 0x576c550f4600] \u001b[0mframe P:177   Avg QP:21.21  size:  6125\n",
            "\u001b[1;36m[libx264 @ 0x576c550f4600] \u001b[0mframe B:158   Avg QP:25.13  size:  1757\n",
            "\u001b[1;36m[libx264 @ 0x576c550f4600] \u001b[0mconsecutive B-frames: 30.6% 17.8%  8.9% 42.7%\n",
            "\u001b[1;36m[libx264 @ 0x576c550f4600] \u001b[0mmb I  I16..4: 19.9% 75.4%  4.6%\n",
            "\u001b[1;36m[libx264 @ 0x576c550f4600] \u001b[0mmb P  I16..4:  1.1%  4.8%  0.1%  P16..4: 24.2%  5.4%  3.1%  0.0%  0.0%    skip:61.3%\n",
            "\u001b[1;36m[libx264 @ 0x576c550f4600] \u001b[0mmb B  I16..4:  0.2%  1.1%  0.0%  B16..8: 24.4%  1.0%  0.1%  direct: 0.5%  skip:72.6%  L0:50.9% L1:47.0% BI: 2.2%\n",
            "\u001b[1;36m[libx264 @ 0x576c550f4600] \u001b[0m8x8 transform intra:80.4% inter:84.7%\n",
            "\u001b[1;36m[libx264 @ 0x576c550f4600] \u001b[0mcoded y,uvDC,uvAC intra: 38.6% 36.3% 7.4% inter: 6.0% 4.7% 0.1%\n",
            "\u001b[1;36m[libx264 @ 0x576c550f4600] \u001b[0mi16 v,h,dc,p: 46% 24% 21%  9%\n",
            "\u001b[1;36m[libx264 @ 0x576c550f4600] \u001b[0mi8 v,h,dc,ddl,ddr,vr,hd,vl,hu: 32% 14% 45%  2%  1%  2%  1%  2%  2%\n",
            "\u001b[1;36m[libx264 @ 0x576c550f4600] \u001b[0mi4 v,h,dc,ddl,ddr,vr,hd,vl,hu: 44% 18% 15%  2%  5%  6%  4%  4%  2%\n",
            "\u001b[1;36m[libx264 @ 0x576c550f4600] \u001b[0mi8c dc,h,v,p: 53% 21% 23%  2%\n",
            "\u001b[1;36m[libx264 @ 0x576c550f4600] \u001b[0mWeighted P-Frames: Y:0.0% UV:0.0%\n",
            "\u001b[1;36m[libx264 @ 0x576c550f4600] \u001b[0mref P L0: 72.7%  9.5% 13.0%  4.7%\n",
            "\u001b[1;36m[libx264 @ 0x576c550f4600] \u001b[0mref B L0: 86.1% 11.3%  2.6%\n",
            "\u001b[1;36m[libx264 @ 0x576c550f4600] \u001b[0mref B L1: 96.6%  3.4%\n",
            "\u001b[1;36m[libx264 @ 0x576c550f4600] \u001b[0mkb/s:1019.39\n",
            "\u001b[1;36m[aac @ 0x576c550f5b00] \u001b[0mQavg: 435.921\n"
          ]
        }
      ]
    },
    {
      "cell_type": "markdown",
      "metadata": {
        "id": "uo-WnsxfbwTG"
      },
      "source": [
        "2.   Use resize_factor to reduce the video resolution, as there is a change you might get better results for lower resolution videos. Why? Because the model was trained on low resolution faces."
      ]
    },
    {
      "cell_type": "code",
      "metadata": {
        "id": "xw0xFtZ2bsx8",
        "colab": {
          "base_uri": "https://localhost:8080/"
        },
        "outputId": "558149b7-fac6-4e77-fa60-cd1deffed7d9"
      },
      "source": [
        "!cd Wav2Lip && python inference.py --checkpoint_path checkpoints/wav2lip_gan.pth --face \"../sample_data/trump2.mp4\" --audio \"../sample_data/Trump.wav\" --resize_factor 2"
      ],
      "execution_count": null,
      "outputs": [
        {
          "output_type": "stream",
          "name": "stdout",
          "text": [
            "Using cuda for inference.\n",
            "Reading video frames...\n",
            "Number of frames available for inference: 379\n",
            "(80, 910)\n",
            "Length of mel chunks: 337\n",
            "  0% 0/3 [00:00<?, ?it/s]\n",
            "  0% 0/22 [00:00<?, ?it/s]\u001b[A\n",
            "  5% 1/22 [00:19<06:54, 19.75s/it]\u001b[A\n",
            "  9% 2/22 [00:21<03:01,  9.08s/it]\u001b[A\n",
            " 14% 3/22 [00:23<01:48,  5.73s/it]\u001b[A\n",
            " 18% 4/22 [00:24<01:13,  4.11s/it]\u001b[A\n",
            " 23% 5/22 [00:26<00:53,  3.17s/it]\u001b[A\n",
            " 27% 6/22 [00:27<00:41,  2.61s/it]\u001b[A\n",
            " 32% 7/22 [00:29<00:33,  2.25s/it]\u001b[A\n",
            " 36% 8/22 [00:30<00:28,  2.01s/it]\u001b[A\n",
            " 41% 9/22 [00:32<00:24,  1.86s/it]\u001b[A\n",
            " 45% 10/22 [00:33<00:21,  1.77s/it]\u001b[A\n",
            " 50% 11/22 [00:35<00:19,  1.75s/it]\u001b[A\n",
            " 55% 12/22 [00:37<00:17,  1.73s/it]\u001b[A\n",
            " 59% 13/22 [00:38<00:15,  1.67s/it]\u001b[A\n",
            " 64% 14/22 [00:40<00:13,  1.63s/it]\u001b[A\n",
            " 68% 15/22 [00:41<00:11,  1.60s/it]\u001b[A\n",
            " 73% 16/22 [00:43<00:09,  1.58s/it]\u001b[A\n",
            " 77% 17/22 [00:44<00:07,  1.57s/it]\u001b[A\n",
            " 82% 18/22 [00:46<00:06,  1.56s/it]\u001b[A\n",
            " 86% 19/22 [00:48<00:04,  1.62s/it]\u001b[A\n",
            " 91% 20/22 [00:49<00:03,  1.64s/it]\u001b[A\n",
            " 95% 21/22 [00:51<00:01,  1.61s/it]\u001b[A\n",
            "100% 22/22 [00:53<00:00,  2.41s/it]\n",
            "Load checkpoint from: checkpoints/wav2lip_gan.pth\n",
            "Model loaded\n",
            "100% 3/3 [01:10<00:00, 23.61s/it]\n",
            "ffmpeg version 4.4.2-0ubuntu0.22.04.1 Copyright (c) 2000-2021 the FFmpeg developers\n",
            "  built with gcc 11 (Ubuntu 11.2.0-19ubuntu1)\n",
            "  configuration: --prefix=/usr --extra-version=0ubuntu0.22.04.1 --toolchain=hardened --libdir=/usr/lib/x86_64-linux-gnu --incdir=/usr/include/x86_64-linux-gnu --arch=amd64 --enable-gpl --disable-stripping --enable-gnutls --enable-ladspa --enable-libaom --enable-libass --enable-libbluray --enable-libbs2b --enable-libcaca --enable-libcdio --enable-libcodec2 --enable-libdav1d --enable-libflite --enable-libfontconfig --enable-libfreetype --enable-libfribidi --enable-libgme --enable-libgsm --enable-libjack --enable-libmp3lame --enable-libmysofa --enable-libopenjpeg --enable-libopenmpt --enable-libopus --enable-libpulse --enable-librabbitmq --enable-librubberband --enable-libshine --enable-libsnappy --enable-libsoxr --enable-libspeex --enable-libsrt --enable-libssh --enable-libtheora --enable-libtwolame --enable-libvidstab --enable-libvorbis --enable-libvpx --enable-libwebp --enable-libx265 --enable-libxml2 --enable-libxvid --enable-libzimg --enable-libzmq --enable-libzvbi --enable-lv2 --enable-omx --enable-openal --enable-opencl --enable-opengl --enable-sdl2 --enable-pocketsphinx --enable-librsvg --enable-libmfx --enable-libdc1394 --enable-libdrm --enable-libiec61883 --enable-chromaprint --enable-frei0r --enable-libx264 --enable-shared\n",
            "  libavutil      56. 70.100 / 56. 70.100\n",
            "  libavcodec     58.134.100 / 58.134.100\n",
            "  libavformat    58. 76.100 / 58. 76.100\n",
            "  libavdevice    58. 13.100 / 58. 13.100\n",
            "  libavfilter     7.110.100 /  7.110.100\n",
            "  libswscale      5.  9.100 /  5.  9.100\n",
            "  libswresample   3.  9.100 /  3.  9.100\n",
            "  libpostproc    55.  9.100 / 55.  9.100\n",
            "\u001b[0;33mGuessed Channel Layout for Input Stream #0.0 : mono\n",
            "\u001b[0mInput #0, wav, from '../sample_data/Trump.wav':\n",
            "  Metadata:\n",
            "    encoder         : Lavf58.76.100\n",
            "  Duration: 00:00:11.37, bitrate: 384 kb/s\n",
            "  Stream #0:0: Audio: pcm_s16le ([1][0][0][0] / 0x0001), 24000 Hz, mono, s16, 384 kb/s\n",
            "Input #1, avi, from 'temp/result.avi':\n",
            "  Metadata:\n",
            "    software        : Lavf59.27.100\n",
            "  Duration: 00:00:11.23, start: 0.000000, bitrate: 1212 kb/s\n",
            "  Stream #1:0: Video: mpeg4 (Simple Profile) (DIVX / 0x58564944), yuv420p, 960x540 [SAR 1:1 DAR 16:9], 1206 kb/s, 30 fps, 30 tbr, 30 tbn, 30 tbc\n",
            "Stream mapping:\n",
            "  Stream #1:0 -> #0:0 (mpeg4 (native) -> h264 (libx264))\n",
            "  Stream #0:0 -> #0:1 (pcm_s16le (native) -> aac (native))\n",
            "Press [q] to stop, [?] for help\n",
            "\u001b[1;36m[libx264 @ 0x5854b662c600] \u001b[0m\u001b[0;33m-qscale is ignored, -crf is recommended.\n",
            "\u001b[0m\u001b[1;36m[libx264 @ 0x5854b662c600] \u001b[0musing SAR=1/1\n",
            "\u001b[1;36m[libx264 @ 0x5854b662c600] \u001b[0musing cpu capabilities: MMX2 SSE2Fast SSSE3 SSE4.2 AVX FMA3 BMI2 AVX2\n",
            "\u001b[1;36m[libx264 @ 0x5854b662c600] \u001b[0mprofile High, level 3.1, 4:2:0, 8-bit\n",
            "\u001b[1;36m[libx264 @ 0x5854b662c600] \u001b[0m264 - core 163 r3060 5db6aa6 - H.264/MPEG-4 AVC codec - Copyleft 2003-2021 - http://www.videolan.org/x264.html - options: cabac=1 ref=3 deblock=1:0:0 analyse=0x3:0x113 me=hex subme=7 psy=1 psy_rd=1.00:0.00 mixed_ref=1 me_range=16 chroma_me=1 trellis=1 8x8dct=1 cqm=0 deadzone=21,11 fast_pskip=1 chroma_qp_offset=-2 threads=3 lookahead_threads=1 sliced_threads=0 nr=0 decimate=1 interlaced=0 bluray_compat=0 constrained_intra=0 bframes=3 b_pyramid=2 b_adapt=1 b_bias=0 direct=1 weightb=1 open_gop=0 weightp=2 keyint=250 keyint_min=25 scenecut=40 intra_refresh=0 rc_lookahead=40 rc=crf mbtree=1 crf=23.0 qcomp=0.60 qpmin=0 qpmax=69 qpstep=4 ip_ratio=1.40 aq=1:1.00\n",
            "Output #0, mp4, to 'results/result_voice.mp4':\n",
            "  Metadata:\n",
            "    encoder         : Lavf58.76.100\n",
            "  Stream #0:0: Video: h264 (avc1 / 0x31637661), yuv420p(progressive), 960x540 [SAR 1:1 DAR 16:9], q=2-31, 30 fps, 15360 tbn\n",
            "    Metadata:\n",
            "      encoder         : Lavc58.134.100 libx264\n",
            "    Side data:\n",
            "      cpb: bitrate max/min/avg: 0/0/0 buffer size: 0 vbv_delay: N/A\n",
            "  Stream #0:1: Audio: aac (LC) (mp4a / 0x6134706D), 24000 Hz, mono, fltp, 69 kb/s\n",
            "    Metadata:\n",
            "      encoder         : Lavc58.134.100 aac\n",
            "frame=  337 fps= 69 q=-1.0 Lsize=     620kB time=00:00:11.34 bitrate= 447.4kbits/s speed=2.34x    \n",
            "video:514kB audio:96kB subtitle:0kB other streams:0kB global headers:0kB muxing overhead: 1.605452%\n",
            "\u001b[1;36m[libx264 @ 0x5854b662c600] \u001b[0mframe I:2     Avg QP:17.22  size: 12430\n",
            "\u001b[1;36m[libx264 @ 0x5854b662c600] \u001b[0mframe P:151   Avg QP:22.35  size:  2595\n",
            "\u001b[1;36m[libx264 @ 0x5854b662c600] \u001b[0mframe B:184   Avg QP:26.80  size:   593\n",
            "\u001b[1;36m[libx264 @ 0x5854b662c600] \u001b[0mconsecutive B-frames: 20.5% 17.2%  8.9% 53.4%\n",
            "\u001b[1;36m[libx264 @ 0x5854b662c600] \u001b[0mmb I  I16..4: 39.8% 56.2%  3.9%\n",
            "\u001b[1;36m[libx264 @ 0x5854b662c600] \u001b[0mmb P  I16..4:  0.3%  1.5%  0.1%  P16..4: 13.0%  4.5%  2.1%  0.0%  0.0%    skip:78.4%\n",
            "\u001b[1;36m[libx264 @ 0x5854b662c600] \u001b[0mmb B  I16..4:  0.1%  0.3%  0.0%  B16..8: 11.2%  0.9%  0.1%  direct: 0.2%  skip:87.3%  L0:43.9% L1:51.4% BI: 4.8%\n",
            "\u001b[1;36m[libx264 @ 0x5854b662c600] \u001b[0m8x8 transform intra:69.9% inter:80.6%\n",
            "\u001b[1;36m[libx264 @ 0x5854b662c600] \u001b[0mcoded y,uvDC,uvAC intra: 40.6% 50.5% 13.2% inter: 3.2% 4.0% 0.4%\n",
            "\u001b[1;36m[libx264 @ 0x5854b662c600] \u001b[0mi16 v,h,dc,p: 76%  7% 13%  3%\n",
            "\u001b[1;36m[libx264 @ 0x5854b662c600] \u001b[0mi8 v,h,dc,ddl,ddr,vr,hd,vl,hu: 31% 15% 38%  3%  2%  3%  3%  2%  3%\n",
            "\u001b[1;36m[libx264 @ 0x5854b662c600] \u001b[0mi4 v,h,dc,ddl,ddr,vr,hd,vl,hu: 41% 21% 13%  3%  5%  6%  4%  4%  3%\n",
            "\u001b[1;36m[libx264 @ 0x5854b662c600] \u001b[0mi8c dc,h,v,p: 53% 16% 27%  4%\n",
            "\u001b[1;36m[libx264 @ 0x5854b662c600] \u001b[0mWeighted P-Frames: Y:0.0% UV:0.0%\n",
            "\u001b[1;36m[libx264 @ 0x5854b662c600] \u001b[0mref P L0: 69.3% 12.4% 13.5%  4.9%\n",
            "\u001b[1;36m[libx264 @ 0x5854b662c600] \u001b[0mref B L0: 86.9% 10.6%  2.5%\n",
            "\u001b[1;36m[libx264 @ 0x5854b662c600] \u001b[0mref B L1: 97.0%  3.0%\n",
            "\u001b[1;36m[libx264 @ 0x5854b662c600] \u001b[0mkb/s:374.40\n",
            "\u001b[1;36m[aac @ 0x5854b662db00] \u001b[0mQavg: 435.921\n"
          ]
        }
      ]
    },
    {
      "cell_type": "code",
      "source": [],
      "metadata": {
        "id": "UZO4jC8fqRsq"
      },
      "execution_count": null,
      "outputs": []
    }
  ]
}